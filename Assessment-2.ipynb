{
 "cells": [
  {
   "cell_type": "code",
   "execution_count": 9,
   "id": "5a072380-15e9-444a-867e-0107906aa627",
   "metadata": {},
   "outputs": [
    {
     "name": "stdin",
     "output_type": "stream",
     "text": [
      "Enter the no.:  1\n",
      "Enter the no.:  2\n",
      "Enter the no.:  3\n",
      "Enter the no.:  4\n",
      "Enter the no.:  5\n",
      "Enter the no.:  6\n",
      "Enter the no.:  7\n",
      "Enter the no.:  8\n",
      "Enter the no.:  9\n",
      "Enter the no.:  10\n"
     ]
    },
    {
     "data": {
      "text/plain": [
       "[2, 4, 6, 8, 10]"
      ]
     },
     "execution_count": 9,
     "metadata": {},
     "output_type": "execute_result"
    }
   ],
   "source": [
    "#1. give the even number\n",
    "p = int(input(\"Enter the no.: \"))\n",
    "q = int(input(\"Enter the no.: \"))\n",
    "r = int(input(\"Enter the no.: \"))\n",
    "s = int(input(\"Enter the no.: \"))\n",
    "w = int(input(\"Enter the no.: \"))\n",
    "t = int(input(\"Enter the no.: \"))\n",
    "y = int(input(\"Enter the no.: \"))\n",
    "u = int(input(\"Enter the no.: \"))\n",
    "k = int(input(\"Enter the no.: \"))\n",
    "a = int(input(\"Enter the no.: \"))\n",
    "\n",
    "lst = [p,q,r,s,w,t,y,u,k,a]\n",
    "my_lst = [lst for lst in lst if lst%2==0]\n",
    "my_lst\n"
   ]
  },
  {
   "cell_type": "code",
   "execution_count": 18,
   "id": "9237c7ed-ae06-4153-93ac-5c68160a28a8",
   "metadata": {},
   "outputs": [
    {
     "name": "stdin",
     "output_type": "stream",
     "text": [
      "Enter the string:  palak\n"
     ]
    },
    {
     "name": "stdout",
     "output_type": "stream",
     "text": [
      "{'p': 1, 'a': 2, 'l': 1, 'k': 1}\n"
     ]
    }
   ],
   "source": [
    "#2. count the frequency of dictionary \n",
    "var = input(\"Enter the string: \")\n",
    "\n",
    "res={}\n",
    "for i in var:\n",
    "    if i in res:\n",
    "        res[i]+=1\n",
    "    else:\n",
    "        res[i]=1\n",
    "print(res)\n",
    "   "
   ]
  },
  {
   "cell_type": "code",
   "execution_count": 19,
   "id": "68ba7544-90c6-4fbe-b8e7-3515aae9c506",
   "metadata": {},
   "outputs": [
    {
     "data": {
      "text/plain": [
       "'Hi i am palak'"
      ]
     },
     "execution_count": 19,
     "metadata": {},
     "output_type": "execute_result"
    }
   ],
   "source": [
    "with open (r\"C:\\Users\\gupta\\OneDrive\\Desktop\\data.txt\\data.txt\", 'r') as f:\n",
    "    txt = f.read()\n",
    "\n",
    "txt"
   ]
  },
  {
   "cell_type": "code",
   "execution_count": 20,
   "id": "255feab5-0a5a-4c08-91d9-c6d23acf562f",
   "metadata": {},
   "outputs": [
    {
     "data": {
      "text/plain": [
       "13"
      ]
     },
     "execution_count": 20,
     "metadata": {},
     "output_type": "execute_result"
    }
   ],
   "source": [
    "total_words = len(txt)\n",
    "total_words"
   ]
  },
  {
   "cell_type": "code",
   "execution_count": 23,
   "id": "a24f9ddb-cc1b-4b4e-aac1-0c49187a349f",
   "metadata": {},
   "outputs": [
    {
     "name": "stdout",
     "output_type": "stream",
     "text": [
      "{'H': 1, 'i': 2, ' ': 3, 'a': 3, 'm': 1, 'p': 1, 'l': 1, 'k': 1}\n"
     ]
    }
   ],
   "source": [
    "word={}\n",
    "for i in txt:\n",
    "    if i in word:\n",
    "        word[i]+=1\n",
    "    else:\n",
    "        word[i]=1\n",
    "print(word)\n"
   ]
  },
  {
   "cell_type": "code",
   "execution_count": 2,
   "id": "e883e14d-bc0a-4d04-b0b6-185ced7a3c08",
   "metadata": {},
   "outputs": [
    {
     "name": "stdout",
     "output_type": "stream",
     "text": [
      "   ID   Name  Age Department  Marks\n",
      "0   1   Riya   20         CS     85\n",
      "1   2  Aarav   21         IT     78\n",
      "2   3   Neha   22         CS     92\n",
      "3   4  Karan   23        ECE     67\n",
      "4   5  Priya   21         IT     74\n",
      "5   6  Mohit   22         CS     89\n"
     ]
    }
   ],
   "source": [
    "#Part -B DataFrame\n",
    "import pandas as pd\n",
    "data = {'ID': [1,2,3,4,5,6],\n",
    "        'Name': ['Riya','Aarav','Neha','Karan','Priya','Mohit'],\n",
    "        'Age': [20,21,22,23,21,22],\n",
    "        'Department': ['CS','IT','CS','ECE','IT','CS'],\n",
    "        'Marks': [85,78,92,67,74,89]}\n",
    "df = pd.DataFrame(data)\n",
    "print(df)\n",
    "\n"
   ]
  },
  {
   "cell_type": "code",
   "execution_count": 6,
   "id": "f7b279ff-a705-484a-890c-32d2f3dcc9b4",
   "metadata": {},
   "outputs": [
    {
     "data": {
      "text/html": [
       "<div>\n",
       "<style scoped>\n",
       "    .dataframe tbody tr th:only-of-type {\n",
       "        vertical-align: middle;\n",
       "    }\n",
       "\n",
       "    .dataframe tbody tr th {\n",
       "        vertical-align: top;\n",
       "    }\n",
       "\n",
       "    .dataframe thead th {\n",
       "        text-align: right;\n",
       "    }\n",
       "</style>\n",
       "<table border=\"1\" class=\"dataframe\">\n",
       "  <thead>\n",
       "    <tr style=\"text-align: right;\">\n",
       "      <th></th>\n",
       "      <th>ID</th>\n",
       "      <th>Name</th>\n",
       "      <th>Age</th>\n",
       "      <th>Department</th>\n",
       "      <th>Marks</th>\n",
       "    </tr>\n",
       "  </thead>\n",
       "  <tbody>\n",
       "    <tr>\n",
       "      <th>0</th>\n",
       "      <td>1</td>\n",
       "      <td>Riya</td>\n",
       "      <td>20</td>\n",
       "      <td>CS</td>\n",
       "      <td>85</td>\n",
       "    </tr>\n",
       "    <tr>\n",
       "      <th>1</th>\n",
       "      <td>2</td>\n",
       "      <td>Aarav</td>\n",
       "      <td>21</td>\n",
       "      <td>IT</td>\n",
       "      <td>78</td>\n",
       "    </tr>\n",
       "    <tr>\n",
       "      <th>2</th>\n",
       "      <td>3</td>\n",
       "      <td>Neha</td>\n",
       "      <td>22</td>\n",
       "      <td>CS</td>\n",
       "      <td>92</td>\n",
       "    </tr>\n",
       "  </tbody>\n",
       "</table>\n",
       "</div>"
      ],
      "text/plain": [
       "   ID   Name  Age Department  Marks\n",
       "0   1   Riya   20         CS     85\n",
       "1   2  Aarav   21         IT     78\n",
       "2   3   Neha   22         CS     92"
      ]
     },
     "execution_count": 6,
     "metadata": {},
     "output_type": "execute_result"
    }
   ],
   "source": [
    "#First 3 rows\n",
    "df.head(3)"
   ]
  },
  {
   "cell_type": "code",
   "execution_count": 8,
   "id": "5e1b0031-a7a6-4cd6-aee9-3a2d48c18535",
   "metadata": {},
   "outputs": [
    {
     "data": {
      "text/plain": [
       "(6, 5)"
      ]
     },
     "execution_count": 8,
     "metadata": {},
     "output_type": "execute_result"
    }
   ],
   "source": [
    "#Shape of the dataFrame\n",
    "df.shape"
   ]
  },
  {
   "cell_type": "code",
   "execution_count": 10,
   "id": "e59d9501-b98f-434a-95d7-0deecdcae786",
   "metadata": {},
   "outputs": [
    {
     "data": {
      "text/html": [
       "<div>\n",
       "<style scoped>\n",
       "    .dataframe tbody tr th:only-of-type {\n",
       "        vertical-align: middle;\n",
       "    }\n",
       "\n",
       "    .dataframe tbody tr th {\n",
       "        vertical-align: top;\n",
       "    }\n",
       "\n",
       "    .dataframe thead th {\n",
       "        text-align: right;\n",
       "    }\n",
       "</style>\n",
       "<table border=\"1\" class=\"dataframe\">\n",
       "  <thead>\n",
       "    <tr style=\"text-align: right;\">\n",
       "      <th></th>\n",
       "      <th>ID</th>\n",
       "      <th>Name</th>\n",
       "      <th>Age</th>\n",
       "      <th>Department</th>\n",
       "      <th>Marks</th>\n",
       "    </tr>\n",
       "  </thead>\n",
       "  <tbody>\n",
       "    <tr>\n",
       "      <th>0</th>\n",
       "      <td>1</td>\n",
       "      <td>Riya</td>\n",
       "      <td>20</td>\n",
       "      <td>CS</td>\n",
       "      <td>85</td>\n",
       "    </tr>\n",
       "    <tr>\n",
       "      <th>2</th>\n",
       "      <td>3</td>\n",
       "      <td>Neha</td>\n",
       "      <td>22</td>\n",
       "      <td>CS</td>\n",
       "      <td>92</td>\n",
       "    </tr>\n",
       "    <tr>\n",
       "      <th>5</th>\n",
       "      <td>6</td>\n",
       "      <td>Mohit</td>\n",
       "      <td>22</td>\n",
       "      <td>CS</td>\n",
       "      <td>89</td>\n",
       "    </tr>\n",
       "  </tbody>\n",
       "</table>\n",
       "</div>"
      ],
      "text/plain": [
       "   ID   Name  Age Department  Marks\n",
       "0   1   Riya   20         CS     85\n",
       "2   3   Neha   22         CS     92\n",
       "5   6  Mohit   22         CS     89"
      ]
     },
     "execution_count": 10,
     "metadata": {},
     "output_type": "execute_result"
    }
   ],
   "source": [
    "#Marks>80\n",
    "name= df[(df['Department'] == 'CS') & (df['Marks'] > 80)]\n",
    "name"
   ]
  },
  {
   "cell_type": "code",
   "execution_count": 3,
   "id": "7371c2a2-a9f3-429b-9cc6-29b505e4a1e9",
   "metadata": {},
   "outputs": [
    {
     "data": {
      "text/plain": [
       "Department\n",
       "CS     88.666667\n",
       "ECE    67.000000\n",
       "IT     76.000000\n",
       "Name: Marks, dtype: float64"
      ]
     },
     "execution_count": 3,
     "metadata": {},
     "output_type": "execute_result"
    }
   ],
   "source": [
    "# Average marks of department\n",
    "df.groupby('Department')['Marks'].mean()"
   ]
  },
  {
   "cell_type": "code",
   "execution_count": 12,
   "id": "faa2ade3-2b92-48c2-83bc-7b812aa6f2c6",
   "metadata": {},
   "outputs": [
    {
     "data": {
      "text/html": [
       "<div>\n",
       "<style scoped>\n",
       "    .dataframe tbody tr th:only-of-type {\n",
       "        vertical-align: middle;\n",
       "    }\n",
       "\n",
       "    .dataframe tbody tr th {\n",
       "        vertical-align: top;\n",
       "    }\n",
       "\n",
       "    .dataframe thead th {\n",
       "        text-align: right;\n",
       "    }\n",
       "</style>\n",
       "<table border=\"1\" class=\"dataframe\">\n",
       "  <thead>\n",
       "    <tr style=\"text-align: right;\">\n",
       "      <th></th>\n",
       "      <th>ID</th>\n",
       "      <th>Name</th>\n",
       "      <th>Age</th>\n",
       "      <th>Department</th>\n",
       "      <th>Marks</th>\n",
       "      <th>Result</th>\n",
       "    </tr>\n",
       "  </thead>\n",
       "  <tbody>\n",
       "    <tr>\n",
       "      <th>0</th>\n",
       "      <td>1</td>\n",
       "      <td>Riya</td>\n",
       "      <td>20</td>\n",
       "      <td>CS</td>\n",
       "      <td>85</td>\n",
       "      <td>Pass</td>\n",
       "    </tr>\n",
       "    <tr>\n",
       "      <th>1</th>\n",
       "      <td>2</td>\n",
       "      <td>Aarav</td>\n",
       "      <td>21</td>\n",
       "      <td>IT</td>\n",
       "      <td>78</td>\n",
       "      <td>Pass</td>\n",
       "    </tr>\n",
       "    <tr>\n",
       "      <th>2</th>\n",
       "      <td>3</td>\n",
       "      <td>Neha</td>\n",
       "      <td>22</td>\n",
       "      <td>CS</td>\n",
       "      <td>92</td>\n",
       "      <td>Pass</td>\n",
       "    </tr>\n",
       "    <tr>\n",
       "      <th>3</th>\n",
       "      <td>4</td>\n",
       "      <td>Karan</td>\n",
       "      <td>23</td>\n",
       "      <td>ECE</td>\n",
       "      <td>67</td>\n",
       "      <td>Fail</td>\n",
       "    </tr>\n",
       "    <tr>\n",
       "      <th>4</th>\n",
       "      <td>5</td>\n",
       "      <td>Priya</td>\n",
       "      <td>21</td>\n",
       "      <td>IT</td>\n",
       "      <td>74</td>\n",
       "      <td>Fail</td>\n",
       "    </tr>\n",
       "    <tr>\n",
       "      <th>5</th>\n",
       "      <td>6</td>\n",
       "      <td>Mohit</td>\n",
       "      <td>22</td>\n",
       "      <td>CS</td>\n",
       "      <td>89</td>\n",
       "      <td>Pass</td>\n",
       "    </tr>\n",
       "  </tbody>\n",
       "</table>\n",
       "</div>"
      ],
      "text/plain": [
       "   ID   Name  Age Department  Marks Result\n",
       "0   1   Riya   20         CS     85   Pass\n",
       "1   2  Aarav   21         IT     78   Pass\n",
       "2   3   Neha   22         CS     92   Pass\n",
       "3   4  Karan   23        ECE     67   Fail\n",
       "4   5  Priya   21         IT     74   Fail\n",
       "5   6  Mohit   22         CS     89   Pass"
      ]
     },
     "execution_count": 12,
     "metadata": {},
     "output_type": "execute_result"
    }
   ],
   "source": [
    "#pass & Fail\n",
    "def result(Marks):\n",
    "    if Marks>75:\n",
    "        return\"Pass\"\n",
    "    else:\n",
    "        return\"Fail\"\n",
    "df[\"Result\"] = df[\"Marks\"].apply(result)\n",
    "df"
   ]
  },
  {
   "cell_type": "code",
   "execution_count": 14,
   "id": "c4fcc904-9364-4330-8076-686c66f4aeaa",
   "metadata": {},
   "outputs": [
    {
     "data": {
      "text/html": [
       "<div>\n",
       "<style scoped>\n",
       "    .dataframe tbody tr th:only-of-type {\n",
       "        vertical-align: middle;\n",
       "    }\n",
       "\n",
       "    .dataframe tbody tr th {\n",
       "        vertical-align: top;\n",
       "    }\n",
       "\n",
       "    .dataframe thead th {\n",
       "        text-align: right;\n",
       "    }\n",
       "</style>\n",
       "<table border=\"1\" class=\"dataframe\">\n",
       "  <thead>\n",
       "    <tr style=\"text-align: right;\">\n",
       "      <th></th>\n",
       "      <th>ID</th>\n",
       "      <th>Name</th>\n",
       "      <th>Age</th>\n",
       "      <th>Department</th>\n",
       "      <th>Marks</th>\n",
       "      <th>Result</th>\n",
       "    </tr>\n",
       "  </thead>\n",
       "  <tbody>\n",
       "    <tr>\n",
       "      <th>2</th>\n",
       "      <td>3</td>\n",
       "      <td>Neha</td>\n",
       "      <td>22</td>\n",
       "      <td>CS</td>\n",
       "      <td>92</td>\n",
       "      <td>Pass</td>\n",
       "    </tr>\n",
       "    <tr>\n",
       "      <th>5</th>\n",
       "      <td>6</td>\n",
       "      <td>Mohit</td>\n",
       "      <td>22</td>\n",
       "      <td>CS</td>\n",
       "      <td>89</td>\n",
       "      <td>Pass</td>\n",
       "    </tr>\n",
       "    <tr>\n",
       "      <th>0</th>\n",
       "      <td>1</td>\n",
       "      <td>Riya</td>\n",
       "      <td>20</td>\n",
       "      <td>CS</td>\n",
       "      <td>85</td>\n",
       "      <td>Pass</td>\n",
       "    </tr>\n",
       "    <tr>\n",
       "      <th>1</th>\n",
       "      <td>2</td>\n",
       "      <td>Aarav</td>\n",
       "      <td>21</td>\n",
       "      <td>IT</td>\n",
       "      <td>78</td>\n",
       "      <td>Pass</td>\n",
       "    </tr>\n",
       "    <tr>\n",
       "      <th>4</th>\n",
       "      <td>5</td>\n",
       "      <td>Priya</td>\n",
       "      <td>21</td>\n",
       "      <td>IT</td>\n",
       "      <td>74</td>\n",
       "      <td>Fail</td>\n",
       "    </tr>\n",
       "    <tr>\n",
       "      <th>3</th>\n",
       "      <td>4</td>\n",
       "      <td>Karan</td>\n",
       "      <td>23</td>\n",
       "      <td>ECE</td>\n",
       "      <td>67</td>\n",
       "      <td>Fail</td>\n",
       "    </tr>\n",
       "  </tbody>\n",
       "</table>\n",
       "</div>"
      ],
      "text/plain": [
       "   ID   Name  Age Department  Marks Result\n",
       "2   3   Neha   22         CS     92   Pass\n",
       "5   6  Mohit   22         CS     89   Pass\n",
       "0   1   Riya   20         CS     85   Pass\n",
       "1   2  Aarav   21         IT     78   Pass\n",
       "4   5  Priya   21         IT     74   Fail\n",
       "3   4  Karan   23        ECE     67   Fail"
      ]
     },
     "execution_count": 14,
     "metadata": {},
     "output_type": "execute_result"
    }
   ],
   "source": [
    "#descending order\n",
    "newdf = df.sort_values(by = 'Marks',ascending = False)\n",
    "newdf"
   ]
  },
  {
   "cell_type": "code",
   "execution_count": 16,
   "id": "fa26336e-cef4-4ded-a3d5-e589f713d004",
   "metadata": {},
   "outputs": [
    {
     "name": "stdout",
     "output_type": "stream",
     "text": [
      "Task done successsfully.\n"
     ]
    }
   ],
   "source": [
    "#CSV file\n",
    "newdf.to_csv('students_results.csv', index = False)\n",
    "print(\"Task done successsfully.\")"
   ]
  },
  {
   "cell_type": "code",
   "execution_count": null,
   "id": "88db7d28-1e48-45bd-847a-3a6c8c0280c0",
   "metadata": {},
   "outputs": [],
   "source": []
  }
 ],
 "metadata": {
  "kernelspec": {
   "display_name": "Python 3 (ipykernel)",
   "language": "python",
   "name": "python3"
  },
  "language_info": {
   "codemirror_mode": {
    "name": "ipython",
    "version": 3
   },
   "file_extension": ".py",
   "mimetype": "text/x-python",
   "name": "python",
   "nbconvert_exporter": "python",
   "pygments_lexer": "ipython3",
   "version": "3.13.5"
  }
 },
 "nbformat": 4,
 "nbformat_minor": 5
}
